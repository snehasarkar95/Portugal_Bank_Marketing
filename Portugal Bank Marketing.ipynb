{
 "cells": [
  {
   "cell_type": "markdown",
   "id": "01fed9eb",
   "metadata": {},
   "source": [
    "# ‘Portugal Bank Marketing’ dataset"
   ]
  },
  {
   "cell_type": "code",
   "execution_count": 1,
   "id": "eafebc4b",
   "metadata": {},
   "outputs": [],
   "source": [
    "import os\n",
    "import pandas as pd\n",
    "import numpy as np\n",
    "import matplotlib.pyplot as plt\n",
    "import seaborn as sns\n",
    "from sklearn import metrics\n",
    "from sklearn.preprocessing import StandardScaler\n",
    "from sklearn.model_selection import train_test_split\n",
    "from sklearn.linear_model import LogisticRegression\n",
    "from sklearn.ensemble import RandomForestClassifier\n",
    "from sklearn.neighbors import KNeighborsClassifier\n",
    "from sklearn.feature_selection import SelectFromModel\n",
    "from imblearn.over_sampling import SMOTE"
   ]
  },
  {
   "cell_type": "code",
   "execution_count": 2,
   "id": "027f0a75",
   "metadata": {},
   "outputs": [],
   "source": [
    "os.chdir(r\"C:\\Users\\Sarkar\\Desktop\\164423063542460ec2379f8793842aa5b168a_\")"
   ]
  },
  {
   "cell_type": "code",
   "execution_count": 3,
   "id": "2c641a5e",
   "metadata": {},
   "outputs": [
    {
     "data": {
      "text/plain": [
       "['bank.csv',\n",
       " 'Machine Learning using Python Question Paper 1.pdf',\n",
       " 'MonthWiseMarketArrivals_Clean.csv']"
      ]
     },
     "execution_count": 3,
     "metadata": {},
     "output_type": "execute_result"
    }
   ],
   "source": [
    "os.listdir()"
   ]
  },
  {
   "cell_type": "code",
   "execution_count": 4,
   "id": "03132cfe",
   "metadata": {},
   "outputs": [],
   "source": [
    "df=pd.read_csv(\"bank.csv\",sep=\";\")"
   ]
  },
  {
   "cell_type": "code",
   "execution_count": 5,
   "id": "6973f5e2",
   "metadata": {},
   "outputs": [],
   "source": [
    "pd.set_option(\"display.max_columns\",500)"
   ]
  },
  {
   "cell_type": "code",
   "execution_count": 6,
   "id": "a9f0a3e8",
   "metadata": {},
   "outputs": [
    {
     "data": {
      "text/html": [
       "<div>\n",
       "<style scoped>\n",
       "    .dataframe tbody tr th:only-of-type {\n",
       "        vertical-align: middle;\n",
       "    }\n",
       "\n",
       "    .dataframe tbody tr th {\n",
       "        vertical-align: top;\n",
       "    }\n",
       "\n",
       "    .dataframe thead th {\n",
       "        text-align: right;\n",
       "    }\n",
       "</style>\n",
       "<table border=\"1\" class=\"dataframe\">\n",
       "  <thead>\n",
       "    <tr style=\"text-align: right;\">\n",
       "      <th></th>\n",
       "      <th>age</th>\n",
       "      <th>job</th>\n",
       "      <th>marital</th>\n",
       "      <th>education</th>\n",
       "      <th>default</th>\n",
       "      <th>housing</th>\n",
       "      <th>loan</th>\n",
       "      <th>contact</th>\n",
       "      <th>month</th>\n",
       "      <th>day_of_week</th>\n",
       "      <th>duration</th>\n",
       "      <th>campaign</th>\n",
       "      <th>pdays</th>\n",
       "      <th>previous</th>\n",
       "      <th>poutcome</th>\n",
       "      <th>emp.var.rate</th>\n",
       "      <th>cons.price.idx</th>\n",
       "      <th>cons.conf.idx</th>\n",
       "      <th>euribor3m</th>\n",
       "      <th>nr.employed</th>\n",
       "      <th>y</th>\n",
       "    </tr>\n",
       "  </thead>\n",
       "  <tbody>\n",
       "    <tr>\n",
       "      <th>0</th>\n",
       "      <td>56</td>\n",
       "      <td>housemaid</td>\n",
       "      <td>married</td>\n",
       "      <td>basic.4y</td>\n",
       "      <td>no</td>\n",
       "      <td>no</td>\n",
       "      <td>no</td>\n",
       "      <td>telephone</td>\n",
       "      <td>may</td>\n",
       "      <td>mon</td>\n",
       "      <td>261</td>\n",
       "      <td>1</td>\n",
       "      <td>999</td>\n",
       "      <td>0</td>\n",
       "      <td>nonexistent</td>\n",
       "      <td>1.1</td>\n",
       "      <td>93.994</td>\n",
       "      <td>-36.4</td>\n",
       "      <td>4.857</td>\n",
       "      <td>5191.0</td>\n",
       "      <td>no</td>\n",
       "    </tr>\n",
       "    <tr>\n",
       "      <th>1</th>\n",
       "      <td>57</td>\n",
       "      <td>services</td>\n",
       "      <td>married</td>\n",
       "      <td>high.school</td>\n",
       "      <td>unknown</td>\n",
       "      <td>no</td>\n",
       "      <td>no</td>\n",
       "      <td>telephone</td>\n",
       "      <td>may</td>\n",
       "      <td>mon</td>\n",
       "      <td>149</td>\n",
       "      <td>1</td>\n",
       "      <td>999</td>\n",
       "      <td>0</td>\n",
       "      <td>nonexistent</td>\n",
       "      <td>1.1</td>\n",
       "      <td>93.994</td>\n",
       "      <td>-36.4</td>\n",
       "      <td>4.857</td>\n",
       "      <td>5191.0</td>\n",
       "      <td>no</td>\n",
       "    </tr>\n",
       "    <tr>\n",
       "      <th>2</th>\n",
       "      <td>37</td>\n",
       "      <td>services</td>\n",
       "      <td>married</td>\n",
       "      <td>high.school</td>\n",
       "      <td>no</td>\n",
       "      <td>yes</td>\n",
       "      <td>no</td>\n",
       "      <td>telephone</td>\n",
       "      <td>may</td>\n",
       "      <td>mon</td>\n",
       "      <td>226</td>\n",
       "      <td>1</td>\n",
       "      <td>999</td>\n",
       "      <td>0</td>\n",
       "      <td>nonexistent</td>\n",
       "      <td>1.1</td>\n",
       "      <td>93.994</td>\n",
       "      <td>-36.4</td>\n",
       "      <td>4.857</td>\n",
       "      <td>5191.0</td>\n",
       "      <td>no</td>\n",
       "    </tr>\n",
       "    <tr>\n",
       "      <th>3</th>\n",
       "      <td>40</td>\n",
       "      <td>admin.</td>\n",
       "      <td>married</td>\n",
       "      <td>basic.6y</td>\n",
       "      <td>no</td>\n",
       "      <td>no</td>\n",
       "      <td>no</td>\n",
       "      <td>telephone</td>\n",
       "      <td>may</td>\n",
       "      <td>mon</td>\n",
       "      <td>151</td>\n",
       "      <td>1</td>\n",
       "      <td>999</td>\n",
       "      <td>0</td>\n",
       "      <td>nonexistent</td>\n",
       "      <td>1.1</td>\n",
       "      <td>93.994</td>\n",
       "      <td>-36.4</td>\n",
       "      <td>4.857</td>\n",
       "      <td>5191.0</td>\n",
       "      <td>no</td>\n",
       "    </tr>\n",
       "    <tr>\n",
       "      <th>4</th>\n",
       "      <td>56</td>\n",
       "      <td>services</td>\n",
       "      <td>married</td>\n",
       "      <td>high.school</td>\n",
       "      <td>no</td>\n",
       "      <td>no</td>\n",
       "      <td>yes</td>\n",
       "      <td>telephone</td>\n",
       "      <td>may</td>\n",
       "      <td>mon</td>\n",
       "      <td>307</td>\n",
       "      <td>1</td>\n",
       "      <td>999</td>\n",
       "      <td>0</td>\n",
       "      <td>nonexistent</td>\n",
       "      <td>1.1</td>\n",
       "      <td>93.994</td>\n",
       "      <td>-36.4</td>\n",
       "      <td>4.857</td>\n",
       "      <td>5191.0</td>\n",
       "      <td>no</td>\n",
       "    </tr>\n",
       "  </tbody>\n",
       "</table>\n",
       "</div>"
      ],
      "text/plain": [
       "   age        job  marital    education  default housing loan    contact  \\\n",
       "0   56  housemaid  married     basic.4y       no      no   no  telephone   \n",
       "1   57   services  married  high.school  unknown      no   no  telephone   \n",
       "2   37   services  married  high.school       no     yes   no  telephone   \n",
       "3   40     admin.  married     basic.6y       no      no   no  telephone   \n",
       "4   56   services  married  high.school       no      no  yes  telephone   \n",
       "\n",
       "  month day_of_week  duration  campaign  pdays  previous     poutcome  \\\n",
       "0   may         mon       261         1    999         0  nonexistent   \n",
       "1   may         mon       149         1    999         0  nonexistent   \n",
       "2   may         mon       226         1    999         0  nonexistent   \n",
       "3   may         mon       151         1    999         0  nonexistent   \n",
       "4   may         mon       307         1    999         0  nonexistent   \n",
       "\n",
       "   emp.var.rate  cons.price.idx  cons.conf.idx  euribor3m  nr.employed   y  \n",
       "0           1.1          93.994          -36.4      4.857       5191.0  no  \n",
       "1           1.1          93.994          -36.4      4.857       5191.0  no  \n",
       "2           1.1          93.994          -36.4      4.857       5191.0  no  \n",
       "3           1.1          93.994          -36.4      4.857       5191.0  no  \n",
       "4           1.1          93.994          -36.4      4.857       5191.0  no  "
      ]
     },
     "execution_count": 6,
     "metadata": {},
     "output_type": "execute_result"
    }
   ],
   "source": [
    "df.head()"
   ]
  },
  {
   "cell_type": "code",
   "execution_count": 7,
   "id": "6f57dbb7",
   "metadata": {},
   "outputs": [
    {
     "data": {
      "text/plain": [
       "(41188, 21)"
      ]
     },
     "execution_count": 7,
     "metadata": {},
     "output_type": "execute_result"
    }
   ],
   "source": [
    "df.shape"
   ]
  },
  {
   "cell_type": "code",
   "execution_count": 8,
   "id": "cd684f18",
   "metadata": {},
   "outputs": [
    {
     "name": "stdout",
     "output_type": "stream",
     "text": [
      "<class 'pandas.core.frame.DataFrame'>\n",
      "RangeIndex: 41188 entries, 0 to 41187\n",
      "Data columns (total 21 columns):\n",
      " #   Column          Non-Null Count  Dtype  \n",
      "---  ------          --------------  -----  \n",
      " 0   age             41188 non-null  int64  \n",
      " 1   job             41188 non-null  object \n",
      " 2   marital         41188 non-null  object \n",
      " 3   education       41188 non-null  object \n",
      " 4   default         41188 non-null  object \n",
      " 5   housing         41188 non-null  object \n",
      " 6   loan            41188 non-null  object \n",
      " 7   contact         41188 non-null  object \n",
      " 8   month           41188 non-null  object \n",
      " 9   day_of_week     41188 non-null  object \n",
      " 10  duration        41188 non-null  int64  \n",
      " 11  campaign        41188 non-null  int64  \n",
      " 12  pdays           41188 non-null  int64  \n",
      " 13  previous        41188 non-null  int64  \n",
      " 14  poutcome        41188 non-null  object \n",
      " 15  emp.var.rate    41188 non-null  float64\n",
      " 16  cons.price.idx  41188 non-null  float64\n",
      " 17  cons.conf.idx   41188 non-null  float64\n",
      " 18  euribor3m       41188 non-null  float64\n",
      " 19  nr.employed     41188 non-null  float64\n",
      " 20  y               41188 non-null  object \n",
      "dtypes: float64(5), int64(5), object(11)\n",
      "memory usage: 6.6+ MB\n"
     ]
    }
   ],
   "source": [
    "df.info()"
   ]
  },
  {
   "cell_type": "code",
   "execution_count": 9,
   "id": "a798bc42",
   "metadata": {},
   "outputs": [
    {
     "data": {
      "image/png": "[encoded data removed]",
      "text/plain": [
       "<Figure size 1296x720 with 1 Axes>"
      ]
     },
     "metadata": {
      "needs_background": "light"
     },
     "output_type": "display_data"
    }
   ],
   "source": [
    "plt.figure(figsize=(18,10))\n",
    "sns.heatmap(df.isnull(),yticklabels=False,cbar=False,cmap=\"viridis\")\n",
    "plt.show()"
   ]
  },
  {
   "cell_type": "markdown",
   "id": "28875078",
   "metadata": {},
   "source": [
    "***\n",
    "* No missing values thus no need for missing value treatment\n",
    "***"
   ]
  },
  {
   "cell_type": "code",
   "execution_count": 10,
   "id": "a37f34fd",
   "metadata": {},
   "outputs": [],
   "source": [
    "def univariate_cat(data,x):\n",
    "    zero_value=data[x][data[x]==0].count()\n",
    "    missing_value=data[x].isnull().sum()\n",
    "    cat=data[x].nunique()\n",
    "    list_cat=list(data[x].unique())\n",
    "    f1=pd.DataFrame(data[x].value_counts(dropna=False))\n",
    "    f1.rename(columns={x:\"counts\"},inplace=True)\n",
    "    f2=pd.DataFrame(data[x].value_counts(normalize=True))\n",
    "    f2.rename(columns={x:\"Percentage\"},inplace=True)\n",
    "    f2[\"Percentage\"]=(f2[\"Percentage\"]*100).round(2).astype(str)+\"%\"\n",
    "    ff=pd.concat([f1,f2],axis=1)\n",
    "    \n",
    "    print(\"Total zero values:\",zero_value)\n",
    "    print(\"\\nTotal missing values:\",missing_value)\n",
    "    print(\"\\nTotal unique categories:\",cat)\n",
    "    print(\"\\nUnique categories:\",list_cat)\n",
    "    print(\"\\nPercentage distribution of individual category:\\n\",ff)\n",
    "    sns.countplot(data=data, x=x)\n",
    "    plt.show()\n",
    "\n",
    "def univariate_num(data,x):\n",
    "    missing=round(data[x].isnull().sum(),2)\n",
    "    zero_value=round(data[x][data[x]==0].count(),2)\n",
    "    mean_x=round(data[x].mean(),2)\n",
    "    min1=round(data[x].min(), 2)\n",
    "    max1=round(data[x].max(), 2)\n",
    "    range1=round(max1-min1, 2)\n",
    "    var=round(data[x].var(), 2)\n",
    "    std=round(data[x].std(),2)\n",
    "    skew_x=round(data[x].skew(),2)\n",
    "    kurt_x=round(data[x].kurt(),2)\n",
    "    Q1=data[x].quantile(.25)\n",
    "    Q2=data[x].quantile(.50)\n",
    "    Q3=data[x].quantile(.75)\n",
    "    \n",
    "    myvalue={\"missing\":missing,\"zeros\":zero_value, \"min\":min1, \"max\":max1, \"mean\":mean_x,\n",
    "             \"var\":var,\"std\":std, \"range\":range1,\"Q1\":Q1, \"Q2\":Q2,\"Q3\":Q3,\n",
    "            \"skewness\":skew_x, \"kurtosis\":kurt_x}\n",
    "    sns.histplot(data[x])\n",
    "    plt.show()\n",
    "    sns.boxplot(data=data, y=data[x])\n",
    "    plt.show()\n",
    "    return myvalue"
   ]
  },
  {
   "cell_type": "code",
   "execution_count": 11,
   "id": "88bc6c04",
   "metadata": {},
   "outputs": [
    {
     "data": {
      "text/plain": [
       "Index(['age', 'job', 'marital', 'education', 'default', 'housing', 'loan',\n",
       "       'contact', 'month', 'day_of_week', 'duration', 'campaign', 'pdays',\n",
       "       'previous', 'poutcome', 'emp.var.rate', 'cons.price.idx',\n",
       "       'cons.conf.idx', 'euribor3m', 'nr.employed', 'y'],\n",
       "      dtype='object')"
      ]
     },
     "execution_count": 11,
     "metadata": {},
     "output_type": "execute_result"
    }
   ],
   "source": [
    "df.columns"
   ]
  },
  {
   "cell_type": "code",
   "execution_count": 12,
   "id": "dad69a82",
   "metadata": {},
   "outputs": [
    {
     "data": {
      "image/png": "[encoded data removed]",
      "text/plain": [
       "<Figure size 432x288 with 1 Axes>"
      ]
     },
     "metadata": {
      "needs_background": "light"
     },
     "output_type": "display_data"
    },
    {
     "data": {
      "image/png": "[encoded data removed]",
      "text/plain": [
       "<Figure size 432x288 with 1 Axes>"
      ]
     },
     "metadata": {
      "needs_background": "light"
     },
     "output_type": "display_data"
    },
    {
     "data": {
      "text/plain": [
       "{'missing': 0,\n",
       " 'zeros': 0,\n",
       " 'min': 17,\n",
       " 'max': 98,\n",
       " 'mean': 40.02,\n",
       " 'var': 108.6,\n",
       " 'std': 10.42,\n",
       " 'range': 81,\n",
       " 'Q1': 32.0,\n",
       " 'Q2': 38.0,\n",
       " 'Q3': 47.0,\n",
       " 'skewness': 0.78,\n",
       " 'kurtosis': 0.79}"
      ]
     },
     "execution_count": 12,
     "metadata": {},
     "output_type": "execute_result"
    }
   ],
   "source": [
    "univariate_num(df,'age')"
   ]
  },
  {
   "cell_type": "code",
   "execution_count": 13,
   "id": "3133321d",
   "metadata": {},
   "outputs": [
    {
     "name": "stdout",
     "output_type": "stream",
     "text": [
      "Total zero values: 0\n",
      "\n",
      "Total missing values: 0\n",
      "\n",
      "Total unique categories: 12\n",
      "\n",
      "Unique categories: ['housemaid', 'services', 'admin.', 'blue-collar', 'technician', 'retired', 'management', 'unemployed', 'self-employed', 'unknown', 'entrepreneur', 'student']\n",
      "\n",
      "Percentage distribution of individual category:\n",
      "                counts Percentage\n",
      "admin.          10422      25.3%\n",
      "blue-collar      9254     22.47%\n",
      "technician       6743     16.37%\n",
      "services         3969      9.64%\n",
      "management       2924       7.1%\n",
      "retired          1720      4.18%\n",
      "entrepreneur     1456      3.54%\n",
      "self-employed    1421      3.45%\n",
      "housemaid        1060      2.57%\n",
      "unemployed       1014      2.46%\n",
      "student           875      2.12%\n",
      "unknown           330       0.8%\n"
     ]
    },
    {
     "data": {
      "image/png": "[encoded data removed]",
      "text/plain": [
       "<Figure size 432x288 with 1 Axes>"
      ]
     },
     "metadata": {
      "needs_background": "light"
     },
     "output_type": "display_data"
    }
   ],
   "source": [
    "univariate_cat(df,'job')"
   ]
  },
  {
   "cell_type": "code",
   "execution_count": 14,
   "id": "7742ba25",
   "metadata": {},
   "outputs": [],
   "source": [
    "df[\"job\"]=df[\"job\"].replace([\"management\", \"admin.\"], \"White-collar\")\n",
    "\n",
    "df[\"job\"]=df[\"job\"].replace([\"services\", \"housemaid\"], \"Pink-collar\")\n",
    "\n",
    "df[\"job\"]=df[\"job\"].replace([\"retired\", \"student\", \"unemployed\", \n",
    "                                   \"unknown\"], \"Others\")\n",
    "\n",
    "df[\"job\"]=df[\"job\"].replace([\"self-employed\", \"entrepreneur\"], \n",
    "                                  \"self-depend\")"
   ]
  },
  {
   "cell_type": "code",
   "execution_count": 15,
   "id": "ca168412",
   "metadata": {},
   "outputs": [
    {
     "name": "stdout",
     "output_type": "stream",
     "text": [
      "Total zero values: 0\n",
      "\n",
      "Total missing values: 0\n",
      "\n",
      "Total unique categories: 6\n",
      "\n",
      "Unique categories: ['Pink-collar', 'White-collar', 'blue-collar', 'technician', 'Others', 'self-depend']\n",
      "\n",
      "Percentage distribution of individual category:\n",
      "               counts Percentage\n",
      "White-collar   13346      32.4%\n",
      "blue-collar     9254     22.47%\n",
      "technician      6743     16.37%\n",
      "Pink-collar     5029     12.21%\n",
      "Others          3939      9.56%\n",
      "self-depend     2877      6.99%\n"
     ]
    },
    {
     "data": {
      "image/png": "[encoded data removed]",
      "text/plain": [
       "<Figure size 432x288 with 1 Axes>"
      ]
     },
     "metadata": {
      "needs_background": "light"
     },
     "output_type": "display_data"
    }
   ],
   "source": [
    "univariate_cat(df,'job')"
   ]
  },
  {
   "cell_type": "code",
   "execution_count": 16,
   "id": "ec9394b1",
   "metadata": {},
   "outputs": [
    {
     "name": "stdout",
     "output_type": "stream",
     "text": [
      "Total zero values: 0\n",
      "\n",
      "Total missing values: 0\n",
      "\n",
      "Total unique categories: 4\n",
      "\n",
      "Unique categories: ['married', 'single', 'divorced', 'unknown']\n",
      "\n",
      "Percentage distribution of individual category:\n",
      "           counts Percentage\n",
      "married    24928     60.52%\n",
      "single     11568     28.09%\n",
      "divorced    4612      11.2%\n",
      "unknown       80      0.19%\n"
     ]
    },
    {
     "data": {
      "image/png": "[encoded data removed]",
      "text/plain": [
       "<Figure size 432x288 with 1 Axes>"
      ]
     },
     "metadata": {
      "needs_background": "light"
     },
     "output_type": "display_data"
    }
   ],
   "source": [
    "univariate_cat(df,'marital')"
   ]
  },
  {
   "cell_type": "code",
   "execution_count": 17,
   "id": "02f0078e",
   "metadata": {},
   "outputs": [
    {
     "name": "stdout",
     "output_type": "stream",
     "text": [
      "Total zero values: 0\n",
      "\n",
      "Total missing values: 0\n",
      "\n",
      "Total unique categories: 8\n",
      "\n",
      "Unique categories: ['basic.4y', 'high.school', 'basic.6y', 'basic.9y', 'professional.course', 'unknown', 'university.degree', 'illiterate']\n",
      "\n",
      "Percentage distribution of individual category:\n",
      "                      counts Percentage\n",
      "university.degree     12168     29.54%\n",
      "high.school            9515      23.1%\n",
      "basic.9y               6045     14.68%\n",
      "professional.course    5243     12.73%\n",
      "basic.4y               4176     10.14%\n",
      "basic.6y               2292      5.56%\n",
      "unknown                1731       4.2%\n",
      "illiterate               18      0.04%\n"
     ]
    },
    {
     "data": {
      "image/png": "[encoded data removed]",
      "text/plain": [
       "<Figure size 432x288 with 1 Axes>"
      ]
     },
     "metadata": {
      "needs_background": "light"
     },
     "output_type": "display_data"
    }
   ],
   "source": [
    "univariate_cat(df,'education')"
   ]
  },
  {
   "cell_type": "code",
   "execution_count": 18,
   "id": "1a27a6da",
   "metadata": {},
   "outputs": [
    {
     "name": "stdout",
     "output_type": "stream",
     "text": [
      "Total zero values: 0\n",
      "\n",
      "Total missing values: 0\n",
      "\n",
      "Total unique categories: 3\n",
      "\n",
      "Unique categories: ['no', 'unknown', 'yes']\n",
      "\n",
      "Percentage distribution of individual category:\n",
      "          counts Percentage\n",
      "no        32588     79.12%\n",
      "unknown    8597     20.87%\n",
      "yes           3      0.01%\n"
     ]
    },
    {
     "data": {
      "image/png": "[encoded data removed]",
      "text/plain": [
       "<Figure size 432x288 with 1 Axes>"
      ]
     },
     "metadata": {
      "needs_background": "light"
     },
     "output_type": "display_data"
    }
   ],
   "source": [
    "univariate_cat(df,'default')"
   ]
  },
  {
   "cell_type": "code",
   "execution_count": 19,
   "id": "0d781024",
   "metadata": {},
   "outputs": [
    {
     "name": "stdout",
     "output_type": "stream",
     "text": [
      "Total zero values: 0\n",
      "\n",
      "Total missing values: 0\n",
      "\n",
      "Total unique categories: 3\n",
      "\n",
      "Unique categories: ['no', 'yes', 'unknown']\n",
      "\n",
      "Percentage distribution of individual category:\n",
      "          counts Percentage\n",
      "yes       21576     52.38%\n",
      "no        18622     45.21%\n",
      "unknown     990       2.4%\n"
     ]
    },
    {
     "data": {
      "image/png": "[encoded data removed]",
      "text/plain": [
       "<Figure size 432x288 with 1 Axes>"
      ]
     },
     "metadata": {
      "needs_background": "light"
     },
     "output_type": "display_data"
    }
   ],
   "source": [
    "univariate_cat(df,'housing')"
   ]
  },
  {
   "cell_type": "code",
   "execution_count": 20,
   "id": "33625905",
   "metadata": {},
   "outputs": [
    {
     "name": "stdout",
     "output_type": "stream",
     "text": [
      "Total zero values: 0\n",
      "\n",
      "Total missing values: 0\n",
      "\n",
      "Total unique categories: 3\n",
      "\n",
      "Unique categories: ['no', 'yes', 'unknown']\n",
      "\n",
      "Percentage distribution of individual category:\n",
      "          counts Percentage\n",
      "no        33950     82.43%\n",
      "yes        6248     15.17%\n",
      "unknown     990       2.4%\n"
     ]
    },
    {
     "data": {
      "image/png": "[encoded data removed]",
      "text/plain": [
       "<Figure size 432x288 with 1 Axes>"
      ]
     },
     "metadata": {
      "needs_background": "light"
     },
     "output_type": "display_data"
    }
   ],
   "source": [
    "univariate_cat(df,'loan')"
   ]
  },
  {
   "cell_type": "code",
   "execution_count": 21,
   "id": "c4a31fb7",
   "metadata": {},
   "outputs": [
    {
     "name": "stdout",
     "output_type": "stream",
     "text": [
      "Total zero values: 0\n",
      "\n",
      "Total missing values: 0\n",
      "\n",
      "Total unique categories: 2\n",
      "\n",
      "Unique categories: ['telephone', 'cellular']\n",
      "\n",
      "Percentage distribution of individual category:\n",
      "            counts Percentage\n",
      "cellular    26144     63.47%\n",
      "telephone   15044     36.53%\n"
     ]
    },
    {
     "data": {
      "image/png": "[encoded data removed]",
      "text/plain": [
       "<Figure size 432x288 with 1 Axes>"
      ]
     },
     "metadata": {
      "needs_background": "light"
     },
     "output_type": "display_data"
    }
   ],
   "source": [
    "univariate_cat(df,'contact')"
   ]
  },
  {
   "cell_type": "code",
   "execution_count": 22,
   "id": "b1a17e62",
   "metadata": {},
   "outputs": [
    {
     "name": "stdout",
     "output_type": "stream",
     "text": [
      "Total zero values: 0\n",
      "\n",
      "Total missing values: 0\n",
      "\n",
      "Total unique categories: 10\n",
      "\n",
      "Unique categories: ['may', 'jun', 'jul', 'aug', 'oct', 'nov', 'dec', 'mar', 'apr', 'sep']\n",
      "\n",
      "Percentage distribution of individual category:\n",
      "      counts Percentage\n",
      "may   13769     33.43%\n",
      "jul    7174     17.42%\n",
      "aug    6178      15.0%\n",
      "jun    5318     12.91%\n",
      "nov    4101      9.96%\n",
      "apr    2632      6.39%\n",
      "oct     718      1.74%\n",
      "sep     570      1.38%\n",
      "mar     546      1.33%\n",
      "dec     182      0.44%\n"
     ]
    },
    {
     "data": {
      "image/png": "[encoded data removed]",
      "text/plain": [
       "<Figure size 432x288 with 1 Axes>"
      ]
     },
     "metadata": {
      "needs_background": "light"
     },
     "output_type": "display_data"
    }
   ],
   "source": [
    "univariate_cat(df,'month')"
   ]
  },
  {
   "cell_type": "code",
   "execution_count": 23,
   "id": "7ac5a2fb",
   "metadata": {},
   "outputs": [
    {
     "name": "stdout",
     "output_type": "stream",
     "text": [
      "Total zero values: 0\n",
      "\n",
      "Total missing values: 0\n",
      "\n",
      "Total unique categories: 5\n",
      "\n",
      "Unique categories: ['mon', 'tue', 'wed', 'thu', 'fri']\n",
      "\n",
      "Percentage distribution of individual category:\n",
      "      counts Percentage\n",
      "thu    8623     20.94%\n",
      "mon    8514     20.67%\n",
      "wed    8134     19.75%\n",
      "tue    8090     19.64%\n",
      "fri    7827      19.0%\n"
     ]
    },
    {
     "data": {
      "image/png": "[encoded data removed]",
      "text/plain": [
       "<Figure size 432x288 with 1 Axes>"
      ]
     },
     "metadata": {
      "needs_background": "light"
     },
     "output_type": "display_data"
    }
   ],
   "source": [
    "univariate_cat(df,'day_of_week')"
   ]
  },
  {
   "cell_type": "code",
   "execution_count": 24,
   "id": "2db3883b",
   "metadata": {},
   "outputs": [
    {
     "data": {
      "image/png": "[encoded data removed]",
      "text/plain": [
       "<Figure size 432x288 with 1 Axes>"
      ]
     },
     "metadata": {
      "needs_background": "light"
     },
     "output_type": "display_data"
    },
    {
     "data": {
      "image/png": "[encoded data removed]",
      "text/plain": [
       "<Figure size 432x288 with 1 Axes>"
      ]
     },
     "metadata": {
      "needs_background": "light"
     },
     "output_type": "display_data"
    },
    {
     "data": {
      "text/plain": [
       "{'missing': 0,\n",
       " 'zeros': 4,\n",
       " 'min': 0,\n",
       " 'max': 4918,\n",
       " 'mean': 258.29,\n",
       " 'var': 67225.73,\n",
       " 'std': 259.28,\n",
       " 'range': 4918,\n",
       " 'Q1': 102.0,\n",
       " 'Q2': 180.0,\n",
       " 'Q3': 319.0,\n",
       " 'skewness': 3.26,\n",
       " 'kurtosis': 20.25}"
      ]
     },
     "execution_count": 24,
     "metadata": {},
     "output_type": "execute_result"
    }
   ],
   "source": [
    "univariate_num(df,'duration')"
   ]
  },
  {
   "cell_type": "code",
   "execution_count": 25,
   "id": "e3af68b3",
   "metadata": {},
   "outputs": [
    {
     "name": "stdout",
     "output_type": "stream",
     "text": [
      "Total zero values: 0\n",
      "\n",
      "Total missing values: 0\n",
      "\n",
      "Total unique categories: 42\n",
      "\n",
      "Unique categories: [1, 2, 3, 4, 5, 6, 7, 8, 9, 10, 11, 12, 13, 19, 18, 23, 14, 22, 25, 16, 17, 15, 20, 56, 39, 35, 42, 28, 26, 27, 32, 21, 24, 29, 31, 30, 41, 37, 40, 33, 34, 43]\n",
      "\n",
      "Percentage distribution of individual category:\n",
      "     counts Percentage\n",
      "1    17642     42.83%\n",
      "2    10570     25.66%\n",
      "3     5341     12.97%\n",
      "4     2651      6.44%\n",
      "5     1599      3.88%\n",
      "6      979      2.38%\n",
      "7      629      1.53%\n",
      "8      400      0.97%\n",
      "9      283      0.69%\n",
      "10     225      0.55%\n",
      "11     177      0.43%\n",
      "12     125       0.3%\n",
      "13      92      0.22%\n",
      "14      69      0.17%\n",
      "17      58      0.14%\n",
      "16      51      0.12%\n",
      "15      51      0.12%\n",
      "18      33      0.08%\n",
      "20      30      0.07%\n",
      "19      26      0.06%\n",
      "21      24      0.06%\n",
      "22      17      0.04%\n",
      "23      16      0.04%\n",
      "24      15      0.04%\n",
      "27      11      0.03%\n",
      "29      10      0.02%\n",
      "28       8      0.02%\n",
      "26       8      0.02%\n",
      "25       8      0.02%\n",
      "31       7      0.02%\n",
      "30       7      0.02%\n",
      "35       5      0.01%\n",
      "32       4      0.01%\n",
      "33       4      0.01%\n",
      "34       3      0.01%\n",
      "42       2       0.0%\n",
      "40       2       0.0%\n",
      "43       2       0.0%\n",
      "56       1       0.0%\n",
      "39       1       0.0%\n",
      "41       1       0.0%\n",
      "37       1       0.0%\n"
     ]
    },
    {
     "data": {
      "image/png": "[encoded data removed]",
      "text/plain": [
       "<Figure size 432x288 with 1 Axes>"
      ]
     },
     "metadata": {
      "needs_background": "light"
     },
     "output_type": "display_data"
    }
   ],
   "source": [
    "univariate_cat(df,'campaign')"
   ]
  },
  {
   "cell_type": "code",
   "execution_count": 26,
   "id": "4d72536e",
   "metadata": {},
   "outputs": [
    {
     "name": "stdout",
     "output_type": "stream",
     "text": [
      "Total zero values: 15\n",
      "\n",
      "Total missing values: 0\n",
      "\n",
      "Total unique categories: 27\n",
      "\n",
      "Unique categories: [999, 6, 4, 3, 5, 1, 0, 10, 7, 8, 9, 11, 2, 12, 13, 14, 15, 16, 21, 17, 18, 22, 25, 26, 19, 27, 20]\n",
      "\n",
      "Percentage distribution of individual category:\n",
      "      counts Percentage\n",
      "999   39673     96.32%\n",
      "3       439      1.07%\n",
      "6       412       1.0%\n",
      "4       118      0.29%\n",
      "9        64      0.16%\n",
      "2        61      0.15%\n",
      "7        60      0.15%\n",
      "12       58      0.14%\n",
      "10       52      0.13%\n",
      "5        46      0.11%\n",
      "13       36      0.09%\n",
      "11       28      0.07%\n",
      "1        26      0.06%\n",
      "15       24      0.06%\n",
      "14       20      0.05%\n",
      "8        18      0.04%\n",
      "0        15      0.04%\n",
      "16       11      0.03%\n",
      "17        8      0.02%\n",
      "18        7      0.02%\n",
      "22        3      0.01%\n",
      "19        3      0.01%\n",
      "21        2       0.0%\n",
      "25        1       0.0%\n",
      "26        1       0.0%\n",
      "27        1       0.0%\n",
      "20        1       0.0%\n"
     ]
    },
    {
     "data": {
      "image/png": "[encoded data removed]",
      "text/plain": [
       "<Figure size 432x288 with 1 Axes>"
      ]
     },
     "metadata": {
      "needs_background": "light"
     },
     "output_type": "display_data"
    }
   ],
   "source": [
    "univariate_cat(df,'pdays')"
   ]
  },
  {
   "cell_type": "code",
   "execution_count": 27,
   "id": "b9cb5fe7",
   "metadata": {},
   "outputs": [
    {
     "name": "stdout",
     "output_type": "stream",
     "text": [
      "Total zero values: 35563\n",
      "\n",
      "Total missing values: 0\n",
      "\n",
      "Total unique categories: 8\n",
      "\n",
      "Unique categories: [0, 1, 2, 3, 4, 5, 6, 7]\n",
      "\n",
      "Percentage distribution of individual category:\n",
      "    counts Percentage\n",
      "0   35563     86.34%\n",
      "1    4561     11.07%\n",
      "2     754      1.83%\n",
      "3     216      0.52%\n",
      "4      70      0.17%\n",
      "5      18      0.04%\n",
      "6       5      0.01%\n",
      "7       1       0.0%\n"
     ]
    },
    {
     "data": {
      "image/png": "[encoded data removed]",
      "text/plain": [
       "<Figure size 432x288 with 1 Axes>"
      ]
     },
     "metadata": {
      "needs_background": "light"
     },
     "output_type": "display_data"
    }
   ],
   "source": [
    "univariate_cat(df,'previous')"
   ]
  },
  {
   "cell_type": "code",
   "execution_count": 28,
   "id": "66f1a069",
   "metadata": {},
   "outputs": [
    {
     "name": "stdout",
     "output_type": "stream",
     "text": [
      "Total zero values: 0\n",
      "\n",
      "Total missing values: 0\n",
      "\n",
      "Total unique categories: 3\n",
      "\n",
      "Unique categories: ['nonexistent', 'failure', 'success']\n",
      "\n",
      "Percentage distribution of individual category:\n",
      "              counts Percentage\n",
      "nonexistent   35563     86.34%\n",
      "failure        4252     10.32%\n",
      "success        1373      3.33%\n"
     ]
    },
    {
     "data": {
      "image/png": "[encoded data removed]",
      "text/plain": [
       "<Figure size 432x288 with 1 Axes>"
      ]
     },
     "metadata": {
      "needs_background": "light"
     },
     "output_type": "display_data"
    }
   ],
   "source": [
    "univariate_cat(df,'poutcome')"
   ]
  },
  {
   "cell_type": "code",
   "execution_count": 29,
   "id": "ca5c158a",
   "metadata": {},
   "outputs": [
    {
     "name": "stdout",
     "output_type": "stream",
     "text": [
      "Total zero values: 0\n",
      "\n",
      "Total missing values: 0\n",
      "\n",
      "Total unique categories: 10\n",
      "\n",
      "Unique categories: [1.1, 1.4, -0.1, -0.2, -1.8, -2.9, -3.4, -3.0, -1.7, -1.1]\n",
      "\n",
      "Percentage distribution of individual category:\n",
      "       counts Percentage\n",
      " 1.4   16234     39.41%\n",
      "-1.8    9184      22.3%\n",
      " 1.1    7763     18.85%\n",
      "-0.1    3683      8.94%\n",
      "-2.9    1663      4.04%\n",
      "-3.4    1071       2.6%\n",
      "-1.7     773      1.88%\n",
      "-1.1     635      1.54%\n",
      "-3.0     172      0.42%\n",
      "-0.2      10      0.02%\n"
     ]
    },
    {
     "data": {
      "image/png": "[encoded data removed]",
      "text/plain": [
       "<Figure size 432x288 with 1 Axes>"
      ]
     },
     "metadata": {
      "needs_background": "light"
     },
     "output_type": "display_data"
    }
   ],
   "source": [
    "univariate_cat(df,'emp.var.rate')"
   ]
  },
  {
   "cell_type": "code",
   "execution_count": 30,
   "id": "91432bb9",
   "metadata": {},
   "outputs": [
    {
     "data": {
      "image/png": "[encoded data removed]",
      "text/plain": [
       "<Figure size 432x288 with 1 Axes>"
      ]
     },
     "metadata": {
      "needs_background": "light"
     },
     "output_type": "display_data"
    },
    {
     "data": {
      "image/png": "[encoded data removed]",
      "text/plain": [
       "<Figure size 432x288 with 1 Axes>"
      ]
     },
     "metadata": {
      "needs_background": "light"
     },
     "output_type": "display_data"
    },
    {
     "data": {
      "text/plain": [
       "{'missing': 0,\n",
       " 'zeros': 0,\n",
       " 'min': 92.2,\n",
       " 'max': 94.77,\n",
       " 'mean': 93.58,\n",
       " 'var': 0.34,\n",
       " 'std': 0.58,\n",
       " 'range': 2.57,\n",
       " 'Q1': 93.075,\n",
       " 'Q2': 93.749,\n",
       " 'Q3': 93.994,\n",
       " 'skewness': -0.23,\n",
       " 'kurtosis': -0.83}"
      ]
     },
     "execution_count": 30,
     "metadata": {},
     "output_type": "execute_result"
    }
   ],
   "source": [
    "univariate_num(df,'cons.price.idx')"
   ]
  },
  {
   "cell_type": "code",
   "execution_count": 31,
   "id": "f28eeff2",
   "metadata": {},
   "outputs": [
    {
     "data": {
      "image/png": "[encoded data removed]",
      "text/plain": [
       "<Figure size 432x288 with 1 Axes>"
      ]
     },
     "metadata": {
      "needs_background": "light"
     },
     "output_type": "display_data"
    },
    {
     "data": {
      "image/png": "[encoded data removed]",
      "text/plain": [
       "<Figure size 432x288 with 1 Axes>"
      ]
     },
     "metadata": {
      "needs_background": "light"
     },
     "output_type": "display_data"
    },
    {
     "data": {
      "text/plain": [
       "{'missing': 0,\n",
       " 'zeros': 0,\n",
       " 'min': 0.63,\n",
       " 'max': 5.04,\n",
       " 'mean': 3.62,\n",
       " 'var': 3.01,\n",
       " 'std': 1.73,\n",
       " 'range': 4.41,\n",
       " 'Q1': 1.344,\n",
       " 'Q2': 4.857,\n",
       " 'Q3': 4.961,\n",
       " 'skewness': -0.71,\n",
       " 'kurtosis': -1.41}"
      ]
     },
     "execution_count": 31,
     "metadata": {},
     "output_type": "execute_result"
    }
   ],
   "source": [
    "univariate_num(df,'euribor3m')"
   ]
  },
  {
   "cell_type": "code",
   "execution_count": 32,
   "id": "d84806f4",
   "metadata": {},
   "outputs": [
    {
     "data": {
      "image/png": "[encoded data removed]",
      "text/plain": [
       "<Figure size 432x288 with 1 Axes>"
      ]
     },
     "metadata": {
      "needs_background": "light"
     },
     "output_type": "display_data"
    },
    {
     "data": {
      "image/png": "[encoded data removed]",
      "text/plain": [
       "<Figure size 432x288 with 1 Axes>"
      ]
     },
     "metadata": {
      "needs_background": "light"
     },
     "output_type": "display_data"
    },
    {
     "data": {
      "text/plain": [
       "{'missing': 0,\n",
       " 'zeros': 0,\n",
       " 'min': 4963.6,\n",
       " 'max': 5228.1,\n",
       " 'mean': 5167.04,\n",
       " 'var': 5220.28,\n",
       " 'std': 72.25,\n",
       " 'range': 264.5,\n",
       " 'Q1': 5099.1,\n",
       " 'Q2': 5191.0,\n",
       " 'Q3': 5228.1,\n",
       " 'skewness': -1.04,\n",
       " 'kurtosis': -0.0}"
      ]
     },
     "execution_count": 32,
     "metadata": {},
     "output_type": "execute_result"
    }
   ],
   "source": [
    "univariate_num(df,'nr.employed')"
   ]
  },
  {
   "cell_type": "code",
   "execution_count": 33,
   "id": "f0280a86",
   "metadata": {},
   "outputs": [
    {
     "name": "stdout",
     "output_type": "stream",
     "text": [
      "Total zero values: 0\n",
      "\n",
      "Total missing values: 0\n",
      "\n",
      "Total unique categories: 2\n",
      "\n",
      "Unique categories: ['no', 'yes']\n",
      "\n",
      "Percentage distribution of individual category:\n",
      "      counts Percentage\n",
      "no    36548     88.73%\n",
      "yes    4640     11.27%\n"
     ]
    },
    {
     "data": {
      "image/png": "[encoded data removed]",
      "text/plain": [
       "<Figure size 432x288 with 1 Axes>"
      ]
     },
     "metadata": {
      "needs_background": "light"
     },
     "output_type": "display_data"
    }
   ],
   "source": [
    "univariate_cat(df,'y')"
   ]
  },
  {
   "cell_type": "code",
   "execution_count": 34,
   "id": "ef4040f6",
   "metadata": {},
   "outputs": [],
   "source": [
    "df[\"y\"]=df[\"y\"].map({\"yes\":1, \"no\":0})"
   ]
  },
  {
   "cell_type": "code",
   "execution_count": 35,
   "id": "d9c9257e",
   "metadata": {},
   "outputs": [
    {
     "data": {
      "text/plain": [
       "0    36548\n",
       "1     4640\n",
       "Name: y, dtype: int64"
      ]
     },
     "execution_count": 35,
     "metadata": {},
     "output_type": "execute_result"
    }
   ],
   "source": [
    "df[\"y\"].value_counts()"
   ]
  },
  {
   "cell_type": "markdown",
   "id": "214be385",
   "metadata": {},
   "source": [
    "***\n",
    "* Imbalance class problem\n",
    "***"
   ]
  },
  {
   "cell_type": "code",
   "execution_count": 36,
   "id": "f1ea9703",
   "metadata": {},
   "outputs": [
    {
     "data": {
      "text/plain": [
       "<AxesSubplot:>"
      ]
     },
     "execution_count": 36,
     "metadata": {},
     "output_type": "execute_result"
    },
    {
     "data": {
      "image/png": "[encoded data removed]",
      "text/plain": [
       "<Figure size 864x576 with 2 Axes>"
      ]
     },
     "metadata": {
      "needs_background": "light"
     },
     "output_type": "display_data"
    }
   ],
   "source": [
    "plt.figure(figsize=(12,8))\n",
    "sns.heatmap(df.corr(),annot=True)"
   ]
  },
  {
   "cell_type": "markdown",
   "id": "7982f2d6",
   "metadata": {},
   "source": [
    "# Label Encoding"
   ]
  },
  {
   "cell_type": "code",
   "execution_count": 37,
   "id": "54a171f8",
   "metadata": {},
   "outputs": [],
   "source": [
    "from sklearn import preprocessing"
   ]
  },
  {
   "cell_type": "code",
   "execution_count": 38,
   "id": "53843a23",
   "metadata": {},
   "outputs": [
    {
     "data": {
      "text/plain": [
       "['job',\n",
       " 'marital',\n",
       " 'education',\n",
       " 'default',\n",
       " 'housing',\n",
       " 'loan',\n",
       " 'contact',\n",
       " 'month',\n",
       " 'day_of_week',\n",
       " 'poutcome']"
      ]
     },
     "execution_count": 38,
     "metadata": {},
     "output_type": "execute_result"
    }
   ],
   "source": [
    "cat_col=df.select_dtypes(include=['object']).columns.tolist()\n",
    "cat_col"
   ]
  },
  {
   "cell_type": "code",
   "execution_count": 39,
   "id": "df6ea8a2",
   "metadata": {},
   "outputs": [],
   "source": [
    "label_encoder = preprocessing.LabelEncoder()\n",
    "for i in cat_col:\n",
    "    df[i]= label_encoder.fit_transform(df[i])"
   ]
  },
  {
   "cell_type": "code",
   "execution_count": 41,
   "id": "7eccbf5e",
   "metadata": {},
   "outputs": [
    {
     "data": {
      "text/plain": [
       "age                 int64\n",
       "job                 int32\n",
       "marital             int32\n",
       "education           int32\n",
       "default             int32\n",
       "housing             int32\n",
       "loan                int32\n",
       "contact             int32\n",
       "month               int32\n",
       "day_of_week         int32\n",
       "duration            int64\n",
       "campaign            int64\n",
       "pdays               int64\n",
       "previous            int64\n",
       "poutcome            int32\n",
       "emp.var.rate      float64\n",
       "cons.price.idx    float64\n",
       "cons.conf.idx     float64\n",
       "euribor3m         float64\n",
       "nr.employed       float64\n",
       "y                   int64\n",
       "dtype: object"
      ]
     },
     "execution_count": 41,
     "metadata": {},
     "output_type": "execute_result"
    }
   ],
   "source": [
    "df.dtypes"
   ]
  },
  {
   "cell_type": "markdown",
   "id": "8dd5e797",
   "metadata": {},
   "source": [
    "# Random Forest"
   ]
  },
  {
   "cell_type": "code",
   "execution_count": 42,
   "id": "7e376fb0",
   "metadata": {},
   "outputs": [],
   "source": [
    "x=df.drop(columns=[\"y\"])\n",
    "y=df[\"y\"]"
   ]
  },
  {
   "cell_type": "code",
   "execution_count": 43,
   "id": "8dfa6065",
   "metadata": {},
   "outputs": [],
   "source": [
    "x_train,x_test,y_train,y_test=train_test_split(x,y,test_size=.3,random_state=0)"
   ]
  },
  {
   "cell_type": "code",
   "execution_count": 44,
   "id": "4cfa84df",
   "metadata": {},
   "outputs": [],
   "source": [
    "st=StandardScaler()\n",
    "x_train_st=pd.DataFrame(st.fit_transform(x_train),columns=x_train.columns)\n",
    "x_test_st=pd.DataFrame(st.transform(x_test),columns=x_train.columns)"
   ]
  },
  {
   "cell_type": "code",
   "execution_count": 45,
   "id": "27645552",
   "metadata": {},
   "outputs": [
    {
     "name": "stderr",
     "output_type": "stream",
     "text": [
      "[Parallel(n_jobs=-4)]: Using backend SequentialBackend with 1 concurrent workers.\n",
      "[Parallel(n_jobs=-4)]: Done 500 out of 500 | elapsed:   16.9s finished\n"
     ]
    },
    {
     "data": {
      "text/html": [
       "<style>#sk-container-id-1 {color: black;background-color: white;}#sk-container-id-1 pre{padding: 0;}#sk-container-id-1 div.sk-toggleable {background-color: white;}#sk-container-id-1 label.sk-toggleable__label {cursor: pointer;display: block;width: 100%;margin-bottom: 0;padding: 0.3em;box-sizing: border-box;text-align: center;}#sk-container-id-1 label.sk-toggleable__label-arrow:before {content: \"▸\";float: left;margin-right: 0.25em;color: #696969;}#sk-container-id-1 label.sk-toggleable__label-arrow:hover:before {color: black;}#sk-container-id-1 div.sk-estimator:hover label.sk-toggleable__label-arrow:before {color: black;}#sk-container-id-1 div.sk-toggleable__content {max-height: 0;max-width: 0;overflow: hidden;text-align: left;background-color: #f0f8ff;}#sk-container-id-1 div.sk-toggleable__content pre {margin: 0.2em;color: black;border-radius: 0.25em;background-color: #f0f8ff;}#sk-container-id-1 input.sk-toggleable__control:checked~div.sk-toggleable__content {max-height: 200px;max-width: 100%;overflow: auto;}#sk-container-id-1 input.sk-toggleable__control:checked~label.sk-toggleable__label-arrow:before {content: \"▾\";}#sk-container-id-1 div.sk-estimator input.sk-toggleable__control:checked~label.sk-toggleable__label {background-color: #d4ebff;}#sk-container-id-1 div.sk-label input.sk-toggleable__control:checked~label.sk-toggleable__label {background-color: #d4ebff;}#sk-container-id-1 input.sk-hidden--visually {border: 0;clip: rect(1px 1px 1px 1px);clip: rect(1px, 1px, 1px, 1px);height: 1px;margin: -1px;overflow: hidden;padding: 0;position: absolute;width: 1px;}#sk-container-id-1 div.sk-estimator {font-family: monospace;background-color: #f0f8ff;border: 1px dotted black;border-radius: 0.25em;box-sizing: border-box;margin-bottom: 0.5em;}#sk-container-id-1 div.sk-estimator:hover {background-color: #d4ebff;}#sk-container-id-1 div.sk-parallel-item::after {content: \"\";width: 100%;border-bottom: 1px solid gray;flex-grow: 1;}#sk-container-id-1 div.sk-label:hover label.sk-toggleable__label {background-color: #d4ebff;}#sk-container-id-1 div.sk-serial::before {content: \"\";position: absolute;border-left: 1px solid gray;box-sizing: border-box;top: 0;bottom: 0;left: 50%;z-index: 0;}#sk-container-id-1 div.sk-serial {display: flex;flex-direction: column;align-items: center;background-color: white;padding-right: 0.2em;padding-left: 0.2em;position: relative;}#sk-container-id-1 div.sk-item {position: relative;z-index: 1;}#sk-container-id-1 div.sk-parallel {display: flex;align-items: stretch;justify-content: center;background-color: white;position: relative;}#sk-container-id-1 div.sk-item::before, #sk-container-id-1 div.sk-parallel-item::before {content: \"\";position: absolute;border-left: 1px solid gray;box-sizing: border-box;top: 0;bottom: 0;left: 50%;z-index: -1;}#sk-container-id-1 div.sk-parallel-item {display: flex;flex-direction: column;z-index: 1;position: relative;background-color: white;}#sk-container-id-1 div.sk-parallel-item:first-child::after {align-self: flex-end;width: 50%;}#sk-container-id-1 div.sk-parallel-item:last-child::after {align-self: flex-start;width: 50%;}#sk-container-id-1 div.sk-parallel-item:only-child::after {width: 0;}#sk-container-id-1 div.sk-dashed-wrapped {border: 1px dashed gray;margin: 0 0.4em 0.5em 0.4em;box-sizing: border-box;padding-bottom: 0.4em;background-color: white;}#sk-container-id-1 div.sk-label label {font-family: monospace;font-weight: bold;display: inline-block;line-height: 1.2em;}#sk-container-id-1 div.sk-label-container {text-align: center;}#sk-container-id-1 div.sk-container {/* jupyter's `normalize.less` sets `[hidden] { display: none; }` but bootstrap.min.css set `[hidden] { display: none !important; }` so we also need the `!important` here to be able to override the default hidden behavior on the sphinx rendered scikit-learn.org. See: https://github.com/scikit-learn/scikit-learn/issues/21755 */display: inline-block !important;position: relative;}#sk-container-id-1 div.sk-text-repr-fallback {display: none;}</style><div id=\"sk-container-id-1\" class=\"sk-top-container\"><div class=\"sk-text-repr-fallback\"><pre>RandomForestClassifier(criterion=&#x27;entropy&#x27;, max_depth=40, min_samples_split=4,\n",
       "                       n_estimators=500, n_jobs=-4, random_state=0, verbose=1)</pre><b>In a Jupyter environment, please rerun this cell to show the HTML representation or trust the notebook. <br />On GitHub, the HTML representation is unable to render, please try loading this page with nbviewer.org.</b></div><div class=\"sk-container\" hidden><div class=\"sk-item\"><div class=\"sk-estimator sk-toggleable\"><input class=\"sk-toggleable__control sk-hidden--visually\" id=\"sk-estimator-id-1\" type=\"checkbox\" checked><label for=\"sk-estimator-id-1\" class=\"sk-toggleable__label sk-toggleable__label-arrow\">RandomForestClassifier</label><div class=\"sk-toggleable__content\"><pre>RandomForestClassifier(criterion=&#x27;entropy&#x27;, max_depth=40, min_samples_split=4,\n",
       "                       n_estimators=500, n_jobs=-4, random_state=0, verbose=1)</pre></div></div></div></div></div>"
      ],
      "text/plain": [
       "RandomForestClassifier(criterion='entropy', max_depth=40, min_samples_split=4,\n",
       "                       n_estimators=500, n_jobs=-4, random_state=0, verbose=1)"
      ]
     },
     "execution_count": 45,
     "metadata": {},
     "output_type": "execute_result"
    }
   ],
   "source": [
    "rfc = RandomForestClassifier(n_estimators=500, \n",
    "                             min_samples_split=4,\n",
    "                             max_depth=40,\n",
    "                             criterion='entropy',\n",
    "                             random_state=0, \n",
    "                             n_jobs=-4, verbose =1)\n",
    "rfc.fit(x_train_st, y_train)"
   ]
  },
  {
   "cell_type": "code",
   "execution_count": 46,
   "id": "179d8c5d",
   "metadata": {},
   "outputs": [
    {
     "name": "stderr",
     "output_type": "stream",
     "text": [
      "[Parallel(n_jobs=1)]: Using backend SequentialBackend with 1 concurrent workers.\n",
      "[Parallel(n_jobs=1)]: Done 500 out of 500 | elapsed:    2.5s finished\n",
      "[Parallel(n_jobs=1)]: Using backend SequentialBackend with 1 concurrent workers.\n"
     ]
    },
    {
     "name": "stdout",
     "output_type": "stream",
     "text": [
      "Train_score: 0.9959071832402622\n",
      "Test_score: 0.9181840252488468\n"
     ]
    },
    {
     "name": "stderr",
     "output_type": "stream",
     "text": [
      "[Parallel(n_jobs=1)]: Done 500 out of 500 | elapsed:    1.1s finished\n"
     ]
    }
   ],
   "source": [
    "print(\"Train_score:\",rfc.score(x_train_st,y_train))\n",
    "print(\"Test_score:\",rfc.score(x_test_st,y_test))"
   ]
  },
  {
   "cell_type": "code",
   "execution_count": 47,
   "id": "e090bb09",
   "metadata": {},
   "outputs": [
    {
     "name": "stderr",
     "output_type": "stream",
     "text": [
      "[Parallel(n_jobs=-4)]: Using backend SequentialBackend with 1 concurrent workers.\n",
      "[Parallel(n_jobs=-4)]: Done 500 out of 500 | elapsed:   50.2s finished\n"
     ]
    },
    {
     "data": {
      "text/html": [
       "<style>#sk-container-id-2 {color: black;background-color: white;}#sk-container-id-2 pre{padding: 0;}#sk-container-id-2 div.sk-toggleable {background-color: white;}#sk-container-id-2 label.sk-toggleable__label {cursor: pointer;display: block;width: 100%;margin-bottom: 0;padding: 0.3em;box-sizing: border-box;text-align: center;}#sk-container-id-2 label.sk-toggleable__label-arrow:before {content: \"▸\";float: left;margin-right: 0.25em;color: #696969;}#sk-container-id-2 label.sk-toggleable__label-arrow:hover:before {color: black;}#sk-container-id-2 div.sk-estimator:hover label.sk-toggleable__label-arrow:before {color: black;}#sk-container-id-2 div.sk-toggleable__content {max-height: 0;max-width: 0;overflow: hidden;text-align: left;background-color: #f0f8ff;}#sk-container-id-2 div.sk-toggleable__content pre {margin: 0.2em;color: black;border-radius: 0.25em;background-color: #f0f8ff;}#sk-container-id-2 input.sk-toggleable__control:checked~div.sk-toggleable__content {max-height: 200px;max-width: 100%;overflow: auto;}#sk-container-id-2 input.sk-toggleable__control:checked~label.sk-toggleable__label-arrow:before {content: \"▾\";}#sk-container-id-2 div.sk-estimator input.sk-toggleable__control:checked~label.sk-toggleable__label {background-color: #d4ebff;}#sk-container-id-2 div.sk-label input.sk-toggleable__control:checked~label.sk-toggleable__label {background-color: #d4ebff;}#sk-container-id-2 input.sk-hidden--visually {border: 0;clip: rect(1px 1px 1px 1px);clip: rect(1px, 1px, 1px, 1px);height: 1px;margin: -1px;overflow: hidden;padding: 0;position: absolute;width: 1px;}#sk-container-id-2 div.sk-estimator {font-family: monospace;background-color: #f0f8ff;border: 1px dotted black;border-radius: 0.25em;box-sizing: border-box;margin-bottom: 0.5em;}#sk-container-id-2 div.sk-estimator:hover {background-color: #d4ebff;}#sk-container-id-2 div.sk-parallel-item::after {content: \"\";width: 100%;border-bottom: 1px solid gray;flex-grow: 1;}#sk-container-id-2 div.sk-label:hover label.sk-toggleable__label {background-color: #d4ebff;}#sk-container-id-2 div.sk-serial::before {content: \"\";position: absolute;border-left: 1px solid gray;box-sizing: border-box;top: 0;bottom: 0;left: 50%;z-index: 0;}#sk-container-id-2 div.sk-serial {display: flex;flex-direction: column;align-items: center;background-color: white;padding-right: 0.2em;padding-left: 0.2em;position: relative;}#sk-container-id-2 div.sk-item {position: relative;z-index: 1;}#sk-container-id-2 div.sk-parallel {display: flex;align-items: stretch;justify-content: center;background-color: white;position: relative;}#sk-container-id-2 div.sk-item::before, #sk-container-id-2 div.sk-parallel-item::before {content: \"\";position: absolute;border-left: 1px solid gray;box-sizing: border-box;top: 0;bottom: 0;left: 50%;z-index: -1;}#sk-container-id-2 div.sk-parallel-item {display: flex;flex-direction: column;z-index: 1;position: relative;background-color: white;}#sk-container-id-2 div.sk-parallel-item:first-child::after {align-self: flex-end;width: 50%;}#sk-container-id-2 div.sk-parallel-item:last-child::after {align-self: flex-start;width: 50%;}#sk-container-id-2 div.sk-parallel-item:only-child::after {width: 0;}#sk-container-id-2 div.sk-dashed-wrapped {border: 1px dashed gray;margin: 0 0.4em 0.5em 0.4em;box-sizing: border-box;padding-bottom: 0.4em;background-color: white;}#sk-container-id-2 div.sk-label label {font-family: monospace;font-weight: bold;display: inline-block;line-height: 1.2em;}#sk-container-id-2 div.sk-label-container {text-align: center;}#sk-container-id-2 div.sk-container {/* jupyter's `normalize.less` sets `[hidden] { display: none; }` but bootstrap.min.css set `[hidden] { display: none !important; }` so we also need the `!important` here to be able to override the default hidden behavior on the sphinx rendered scikit-learn.org. See: https://github.com/scikit-learn/scikit-learn/issues/21755 */display: inline-block !important;position: relative;}#sk-container-id-2 div.sk-text-repr-fallback {display: none;}</style><div id=\"sk-container-id-2\" class=\"sk-top-container\"><div class=\"sk-text-repr-fallback\"><pre>SelectFromModel(estimator=RandomForestClassifier(criterion=&#x27;entropy&#x27;,\n",
       "                                                 max_depth=40, max_features=20,\n",
       "                                                 min_samples_split=4,\n",
       "                                                 n_estimators=500, n_jobs=-4,\n",
       "                                                 random_state=0, verbose=1))</pre><b>In a Jupyter environment, please rerun this cell to show the HTML representation or trust the notebook. <br />On GitHub, the HTML representation is unable to render, please try loading this page with nbviewer.org.</b></div><div class=\"sk-container\" hidden><div class=\"sk-item sk-dashed-wrapped\"><div class=\"sk-label-container\"><div class=\"sk-label sk-toggleable\"><input class=\"sk-toggleable__control sk-hidden--visually\" id=\"sk-estimator-id-2\" type=\"checkbox\" ><label for=\"sk-estimator-id-2\" class=\"sk-toggleable__label sk-toggleable__label-arrow\">SelectFromModel</label><div class=\"sk-toggleable__content\"><pre>SelectFromModel(estimator=RandomForestClassifier(criterion=&#x27;entropy&#x27;,\n",
       "                                                 max_depth=40, max_features=20,\n",
       "                                                 min_samples_split=4,\n",
       "                                                 n_estimators=500, n_jobs=-4,\n",
       "                                                 random_state=0, verbose=1))</pre></div></div></div><div class=\"sk-parallel\"><div class=\"sk-parallel-item\"><div class=\"sk-item\"><div class=\"sk-label-container\"><div class=\"sk-label sk-toggleable\"><input class=\"sk-toggleable__control sk-hidden--visually\" id=\"sk-estimator-id-3\" type=\"checkbox\" ><label for=\"sk-estimator-id-3\" class=\"sk-toggleable__label sk-toggleable__label-arrow\">estimator: RandomForestClassifier</label><div class=\"sk-toggleable__content\"><pre>RandomForestClassifier(criterion=&#x27;entropy&#x27;, max_depth=40, max_features=20,\n",
       "                       min_samples_split=4, n_estimators=500, n_jobs=-4,\n",
       "                       random_state=0, verbose=1)</pre></div></div></div><div class=\"sk-serial\"><div class=\"sk-item\"><div class=\"sk-estimator sk-toggleable\"><input class=\"sk-toggleable__control sk-hidden--visually\" id=\"sk-estimator-id-4\" type=\"checkbox\" ><label for=\"sk-estimator-id-4\" class=\"sk-toggleable__label sk-toggleable__label-arrow\">RandomForestClassifier</label><div class=\"sk-toggleable__content\"><pre>RandomForestClassifier(criterion=&#x27;entropy&#x27;, max_depth=40, max_features=20,\n",
       "                       min_samples_split=4, n_estimators=500, n_jobs=-4,\n",
       "                       random_state=0, verbose=1)</pre></div></div></div></div></div></div></div></div></div></div>"
      ],
      "text/plain": [
       "SelectFromModel(estimator=RandomForestClassifier(criterion='entropy',\n",
       "                                                 max_depth=40, max_features=20,\n",
       "                                                 min_samples_split=4,\n",
       "                                                 n_estimators=500, n_jobs=-4,\n",
       "                                                 random_state=0, verbose=1))"
      ]
     },
     "execution_count": 47,
     "metadata": {},
     "output_type": "execute_result"
    }
   ],
   "source": [
    "sel = SelectFromModel(RandomForestClassifier(n_estimators=500, \n",
    "                             min_samples_split=4,\n",
    "                             max_features=20,\n",
    "                             max_depth=40,\n",
    "                             criterion='entropy',\n",
    "                             random_state=0, \n",
    "                             n_jobs=-4, verbose =1))\n",
    "sel.fit(x_train_st,y_train)"
   ]
  },
  {
   "cell_type": "code",
   "execution_count": 48,
   "id": "1e55d9f7",
   "metadata": {},
   "outputs": [
    {
     "data": {
      "text/plain": [
       "5"
      ]
     },
     "execution_count": 48,
     "metadata": {},
     "output_type": "execute_result"
    }
   ],
   "source": [
    "selected_feat= x_train_st.columns[(sel.get_support())]\n",
    "len(selected_feat)"
   ]
  },
  {
   "cell_type": "code",
   "execution_count": 49,
   "id": "ab17c732",
   "metadata": {},
   "outputs": [
    {
     "name": "stdout",
     "output_type": "stream",
     "text": [
      "Index(['age', 'duration', 'cons.conf.idx', 'euribor3m', 'nr.employed'], dtype='object')\n"
     ]
    }
   ],
   "source": [
    "print(selected_feat)"
   ]
  },
  {
   "cell_type": "code",
   "execution_count": 50,
   "id": "deb4795e",
   "metadata": {},
   "outputs": [],
   "source": [
    "df1=df[['age', 'duration', 'cons.conf.idx', 'euribor3m', 'nr.employed','y']]"
   ]
  },
  {
   "cell_type": "markdown",
   "id": "c05df8d6",
   "metadata": {},
   "source": [
    "# Handling unbalanced data using SMOTE"
   ]
  },
  {
   "cell_type": "code",
   "execution_count": 51,
   "id": "260b21e0",
   "metadata": {},
   "outputs": [],
   "source": [
    "X=df1.drop(\"y\",axis=1)\n",
    "y=df1[\"y\"]"
   ]
  },
  {
   "cell_type": "code",
   "execution_count": 53,
   "id": "f4f34202",
   "metadata": {},
   "outputs": [],
   "source": [
    "sm = SMOTE(random_state=2,k_neighbors=5)\n",
    "X, y = sm.fit_resample(X, y.ravel())"
   ]
  },
  {
   "cell_type": "code",
   "execution_count": 55,
   "id": "fa7d8d0d",
   "metadata": {},
   "outputs": [
    {
     "data": {
      "text/plain": [
       "<AxesSubplot:ylabel='count'>"
      ]
     },
     "execution_count": 55,
     "metadata": {},
     "output_type": "execute_result"
    },
    {
     "data": {
      "image/png": "[encoded data removed]",
      "text/plain": [
       "<Figure size 432x288 with 1 Axes>"
      ]
     },
     "metadata": {
      "needs_background": "light"
     },
     "output_type": "display_data"
    }
   ],
   "source": [
    "sns.countplot(x=y)"
   ]
  },
  {
   "cell_type": "code",
   "execution_count": 58,
   "id": "db79aea3",
   "metadata": {},
   "outputs": [],
   "source": [
    "x_train, x_test, y_train, y_test = train_test_split(X, y, test_size=0.25, random_state=0)"
   ]
  },
  {
   "cell_type": "code",
   "execution_count": 59,
   "id": "8b21c355",
   "metadata": {},
   "outputs": [],
   "source": [
    "st_x= StandardScaler()\n",
    "x_train_st=pd.DataFrame(st.fit_transform(x_train),columns=x_train.columns)\n",
    "x_test_st=pd.DataFrame(st.transform(x_test),columns=x_train.columns)"
   ]
  },
  {
   "cell_type": "markdown",
   "id": "054ae3d5",
   "metadata": {},
   "source": [
    "# Logistic Regression"
   ]
  },
  {
   "cell_type": "code",
   "execution_count": 60,
   "id": "c75d5141",
   "metadata": {},
   "outputs": [
    {
     "data": {
      "text/html": [
       "<style>#sk-container-id-3 {color: black;background-color: white;}#sk-container-id-3 pre{padding: 0;}#sk-container-id-3 div.sk-toggleable {background-color: white;}#sk-container-id-3 label.sk-toggleable__label {cursor: pointer;display: block;width: 100%;margin-bottom: 0;padding: 0.3em;box-sizing: border-box;text-align: center;}#sk-container-id-3 label.sk-toggleable__label-arrow:before {content: \"▸\";float: left;margin-right: 0.25em;color: #696969;}#sk-container-id-3 label.sk-toggleable__label-arrow:hover:before {color: black;}#sk-container-id-3 div.sk-estimator:hover label.sk-toggleable__label-arrow:before {color: black;}#sk-container-id-3 div.sk-toggleable__content {max-height: 0;max-width: 0;overflow: hidden;text-align: left;background-color: #f0f8ff;}#sk-container-id-3 div.sk-toggleable__content pre {margin: 0.2em;color: black;border-radius: 0.25em;background-color: #f0f8ff;}#sk-container-id-3 input.sk-toggleable__control:checked~div.sk-toggleable__content {max-height: 200px;max-width: 100%;overflow: auto;}#sk-container-id-3 input.sk-toggleable__control:checked~label.sk-toggleable__label-arrow:before {content: \"▾\";}#sk-container-id-3 div.sk-estimator input.sk-toggleable__control:checked~label.sk-toggleable__label {background-color: #d4ebff;}#sk-container-id-3 div.sk-label input.sk-toggleable__control:checked~label.sk-toggleable__label {background-color: #d4ebff;}#sk-container-id-3 input.sk-hidden--visually {border: 0;clip: rect(1px 1px 1px 1px);clip: rect(1px, 1px, 1px, 1px);height: 1px;margin: -1px;overflow: hidden;padding: 0;position: absolute;width: 1px;}#sk-container-id-3 div.sk-estimator {font-family: monospace;background-color: #f0f8ff;border: 1px dotted black;border-radius: 0.25em;box-sizing: border-box;margin-bottom: 0.5em;}#sk-container-id-3 div.sk-estimator:hover {background-color: #d4ebff;}#sk-container-id-3 div.sk-parallel-item::after {content: \"\";width: 100%;border-bottom: 1px solid gray;flex-grow: 1;}#sk-container-id-3 div.sk-label:hover label.sk-toggleable__label {background-color: #d4ebff;}#sk-container-id-3 div.sk-serial::before {content: \"\";position: absolute;border-left: 1px solid gray;box-sizing: border-box;top: 0;bottom: 0;left: 50%;z-index: 0;}#sk-container-id-3 div.sk-serial {display: flex;flex-direction: column;align-items: center;background-color: white;padding-right: 0.2em;padding-left: 0.2em;position: relative;}#sk-container-id-3 div.sk-item {position: relative;z-index: 1;}#sk-container-id-3 div.sk-parallel {display: flex;align-items: stretch;justify-content: center;background-color: white;position: relative;}#sk-container-id-3 div.sk-item::before, #sk-container-id-3 div.sk-parallel-item::before {content: \"\";position: absolute;border-left: 1px solid gray;box-sizing: border-box;top: 0;bottom: 0;left: 50%;z-index: -1;}#sk-container-id-3 div.sk-parallel-item {display: flex;flex-direction: column;z-index: 1;position: relative;background-color: white;}#sk-container-id-3 div.sk-parallel-item:first-child::after {align-self: flex-end;width: 50%;}#sk-container-id-3 div.sk-parallel-item:last-child::after {align-self: flex-start;width: 50%;}#sk-container-id-3 div.sk-parallel-item:only-child::after {width: 0;}#sk-container-id-3 div.sk-dashed-wrapped {border: 1px dashed gray;margin: 0 0.4em 0.5em 0.4em;box-sizing: border-box;padding-bottom: 0.4em;background-color: white;}#sk-container-id-3 div.sk-label label {font-family: monospace;font-weight: bold;display: inline-block;line-height: 1.2em;}#sk-container-id-3 div.sk-label-container {text-align: center;}#sk-container-id-3 div.sk-container {/* jupyter's `normalize.less` sets `[hidden] { display: none; }` but bootstrap.min.css set `[hidden] { display: none !important; }` so we also need the `!important` here to be able to override the default hidden behavior on the sphinx rendered scikit-learn.org. See: https://github.com/scikit-learn/scikit-learn/issues/21755 */display: inline-block !important;position: relative;}#sk-container-id-3 div.sk-text-repr-fallback {display: none;}</style><div id=\"sk-container-id-3\" class=\"sk-top-container\"><div class=\"sk-text-repr-fallback\"><pre>LogisticRegression()</pre><b>In a Jupyter environment, please rerun this cell to show the HTML representation or trust the notebook. <br />On GitHub, the HTML representation is unable to render, please try loading this page with nbviewer.org.</b></div><div class=\"sk-container\" hidden><div class=\"sk-item\"><div class=\"sk-estimator sk-toggleable\"><input class=\"sk-toggleable__control sk-hidden--visually\" id=\"sk-estimator-id-5\" type=\"checkbox\" checked><label for=\"sk-estimator-id-5\" class=\"sk-toggleable__label sk-toggleable__label-arrow\">LogisticRegression</label><div class=\"sk-toggleable__content\"><pre>LogisticRegression()</pre></div></div></div></div></div>"
      ],
      "text/plain": [
       "LogisticRegression()"
      ]
     },
     "execution_count": 60,
     "metadata": {},
     "output_type": "execute_result"
    }
   ],
   "source": [
    "LR=LogisticRegression(solver='lbfgs',max_iter=100)\n",
    "LR.fit(x_train_st,y_train)"
   ]
  },
  {
   "cell_type": "code",
   "execution_count": 62,
   "id": "3ea7bc77",
   "metadata": {},
   "outputs": [
    {
     "name": "stdout",
     "output_type": "stream",
     "text": [
      "Train Score:  0.8417970887599868\n",
      "Test Score:  0.8392251285980081\n"
     ]
    }
   ],
   "source": [
    "print(\"Train Score: \",LR.score(x_train_st,y_train))\n",
    "print(\"Test Score: \",LR.score(x_test_st,y_test))"
   ]
  },
  {
   "cell_type": "code",
   "execution_count": 64,
   "id": "21db86c4",
   "metadata": {},
   "outputs": [
    {
     "data": {
      "text/plain": [
       "<AxesSubplot:>"
      ]
     },
     "execution_count": 64,
     "metadata": {},
     "output_type": "execute_result"
    },
    {
     "data": {
      "image/png": "[encoded data removed]",
      "text/plain": [
       "<Figure size 432x432 with 2 Axes>"
      ]
     },
     "metadata": {
      "needs_background": "light"
     },
     "output_type": "display_data"
    }
   ],
   "source": [
    "predic=LR.predict(x_test_st)\n",
    "cm=metrics.confusion_matrix(y_test,predic)\n",
    "\n",
    "df_cm = pd.DataFrame(cm, index = [i for i in [\"yes\",\"no\"]],\n",
    "                  columns = [i for i in [\"Predict 1\",\"Predict 0\"]])\n",
    "plt.figure(figsize = (6,6))\n",
    "sns.heatmap(df_cm,annot=True,fmt='g')"
   ]
  },
  {
   "cell_type": "code",
   "execution_count": 65,
   "id": "93278c8a",
   "metadata": {},
   "outputs": [
    {
     "name": "stdout",
     "output_type": "stream",
     "text": [
      "              precision    recall  f1-score   support\n",
      "\n",
      "           0       0.84      0.84      0.84      9017\n",
      "           1       0.84      0.84      0.84      9257\n",
      "\n",
      "    accuracy                           0.84     18274\n",
      "   macro avg       0.84      0.84      0.84     18274\n",
      "weighted avg       0.84      0.84      0.84     18274\n",
      "\n"
     ]
    }
   ],
   "source": [
    "print(metrics.classification_report(y_test, predic))"
   ]
  },
  {
   "cell_type": "code",
   "execution_count": 67,
   "id": "a5c6480e",
   "metadata": {},
   "outputs": [],
   "source": [
    "from sklearn.metrics import accuracy_score\n",
    "fp_lr= cm[0][1]\n",
    "accuracy_lr = accuracy_score(y_test,predic)"
   ]
  },
  {
   "cell_type": "markdown",
   "id": "3f0e2f69",
   "metadata": {},
   "source": [
    "# Adaboost"
   ]
  },
  {
   "cell_type": "code",
   "execution_count": 68,
   "id": "d8b60661",
   "metadata": {},
   "outputs": [
    {
     "data": {
      "text/html": [
       "<style>#sk-container-id-4 {color: black;background-color: white;}#sk-container-id-4 pre{padding: 0;}#sk-container-id-4 div.sk-toggleable {background-color: white;}#sk-container-id-4 label.sk-toggleable__label {cursor: pointer;display: block;width: 100%;margin-bottom: 0;padding: 0.3em;box-sizing: border-box;text-align: center;}#sk-container-id-4 label.sk-toggleable__label-arrow:before {content: \"▸\";float: left;margin-right: 0.25em;color: #696969;}#sk-container-id-4 label.sk-toggleable__label-arrow:hover:before {color: black;}#sk-container-id-4 div.sk-estimator:hover label.sk-toggleable__label-arrow:before {color: black;}#sk-container-id-4 div.sk-toggleable__content {max-height: 0;max-width: 0;overflow: hidden;text-align: left;background-color: #f0f8ff;}#sk-container-id-4 div.sk-toggleable__content pre {margin: 0.2em;color: black;border-radius: 0.25em;background-color: #f0f8ff;}#sk-container-id-4 input.sk-toggleable__control:checked~div.sk-toggleable__content {max-height: 200px;max-width: 100%;overflow: auto;}#sk-container-id-4 input.sk-toggleable__control:checked~label.sk-toggleable__label-arrow:before {content: \"▾\";}#sk-container-id-4 div.sk-estimator input.sk-toggleable__control:checked~label.sk-toggleable__label {background-color: #d4ebff;}#sk-container-id-4 div.sk-label input.sk-toggleable__control:checked~label.sk-toggleable__label {background-color: #d4ebff;}#sk-container-id-4 input.sk-hidden--visually {border: 0;clip: rect(1px 1px 1px 1px);clip: rect(1px, 1px, 1px, 1px);height: 1px;margin: -1px;overflow: hidden;padding: 0;position: absolute;width: 1px;}#sk-container-id-4 div.sk-estimator {font-family: monospace;background-color: #f0f8ff;border: 1px dotted black;border-radius: 0.25em;box-sizing: border-box;margin-bottom: 0.5em;}#sk-container-id-4 div.sk-estimator:hover {background-color: #d4ebff;}#sk-container-id-4 div.sk-parallel-item::after {content: \"\";width: 100%;border-bottom: 1px solid gray;flex-grow: 1;}#sk-container-id-4 div.sk-label:hover label.sk-toggleable__label {background-color: #d4ebff;}#sk-container-id-4 div.sk-serial::before {content: \"\";position: absolute;border-left: 1px solid gray;box-sizing: border-box;top: 0;bottom: 0;left: 50%;z-index: 0;}#sk-container-id-4 div.sk-serial {display: flex;flex-direction: column;align-items: center;background-color: white;padding-right: 0.2em;padding-left: 0.2em;position: relative;}#sk-container-id-4 div.sk-item {position: relative;z-index: 1;}#sk-container-id-4 div.sk-parallel {display: flex;align-items: stretch;justify-content: center;background-color: white;position: relative;}#sk-container-id-4 div.sk-item::before, #sk-container-id-4 div.sk-parallel-item::before {content: \"\";position: absolute;border-left: 1px solid gray;box-sizing: border-box;top: 0;bottom: 0;left: 50%;z-index: -1;}#sk-container-id-4 div.sk-parallel-item {display: flex;flex-direction: column;z-index: 1;position: relative;background-color: white;}#sk-container-id-4 div.sk-parallel-item:first-child::after {align-self: flex-end;width: 50%;}#sk-container-id-4 div.sk-parallel-item:last-child::after {align-self: flex-start;width: 50%;}#sk-container-id-4 div.sk-parallel-item:only-child::after {width: 0;}#sk-container-id-4 div.sk-dashed-wrapped {border: 1px dashed gray;margin: 0 0.4em 0.5em 0.4em;box-sizing: border-box;padding-bottom: 0.4em;background-color: white;}#sk-container-id-4 div.sk-label label {font-family: monospace;font-weight: bold;display: inline-block;line-height: 1.2em;}#sk-container-id-4 div.sk-label-container {text-align: center;}#sk-container-id-4 div.sk-container {/* jupyter's `normalize.less` sets `[hidden] { display: none; }` but bootstrap.min.css set `[hidden] { display: none !important; }` so we also need the `!important` here to be able to override the default hidden behavior on the sphinx rendered scikit-learn.org. See: https://github.com/scikit-learn/scikit-learn/issues/21755 */display: inline-block !important;position: relative;}#sk-container-id-4 div.sk-text-repr-fallback {display: none;}</style><div id=\"sk-container-id-4\" class=\"sk-top-container\"><div class=\"sk-text-repr-fallback\"><pre>AdaBoostClassifier()</pre><b>In a Jupyter environment, please rerun this cell to show the HTML representation or trust the notebook. <br />On GitHub, the HTML representation is unable to render, please try loading this page with nbviewer.org.</b></div><div class=\"sk-container\" hidden><div class=\"sk-item\"><div class=\"sk-estimator sk-toggleable\"><input class=\"sk-toggleable__control sk-hidden--visually\" id=\"sk-estimator-id-6\" type=\"checkbox\" checked><label for=\"sk-estimator-id-6\" class=\"sk-toggleable__label sk-toggleable__label-arrow\">AdaBoostClassifier</label><div class=\"sk-toggleable__content\"><pre>AdaBoostClassifier()</pre></div></div></div></div></div>"
      ],
      "text/plain": [
       "AdaBoostClassifier()"
      ]
     },
     "execution_count": 68,
     "metadata": {},
     "output_type": "execute_result"
    }
   ],
   "source": [
    "from sklearn.ensemble import AdaBoostClassifier\n",
    "ada = AdaBoostClassifier()\n",
    "ada.fit(x_train_st,y_train)"
   ]
  },
  {
   "cell_type": "code",
   "execution_count": 70,
   "id": "c0a5a2c6",
   "metadata": {},
   "outputs": [
    {
     "name": "stdout",
     "output_type": "stream",
     "text": [
      "Train Score:  0.8901900696800554\n",
      "Test Score:  0.8842617927109555\n"
     ]
    }
   ],
   "source": [
    "print(\"Train Score: \",ada.score(x_train_st,y_train))\n",
    "print(\"Test Score: \",ada.score(x_test_st,y_test))"
   ]
  },
  {
   "cell_type": "code",
   "execution_count": 71,
   "id": "86613bda",
   "metadata": {},
   "outputs": [
    {
     "data": {
      "text/plain": [
       "<AxesSubplot:>"
      ]
     },
     "execution_count": 71,
     "metadata": {},
     "output_type": "execute_result"
    },
    {
     "data": {
      "image/png": "[encoded data removed]",
      "text/plain": [
       "<Figure size 504x360 with 2 Axes>"
      ]
     },
     "metadata": {
      "needs_background": "light"
     },
     "output_type": "display_data"
    }
   ],
   "source": [
    "predic=ada.predict(x_test_st)\n",
    "cm=metrics.confusion_matrix(y_test,predic)\n",
    "\n",
    "df_cm = pd.DataFrame(cm, index = [i for i in [\"yes\",\"no\"]],\n",
    "                  columns = [i for i in [\"Predict 1\",\"Predict 0\"]])\n",
    "plt.figure(figsize = (7,5))\n",
    "sns.heatmap(df_cm,annot=True,fmt='g')"
   ]
  },
  {
   "cell_type": "code",
   "execution_count": 73,
   "id": "2c9ef586",
   "metadata": {},
   "outputs": [
    {
     "name": "stdout",
     "output_type": "stream",
     "text": [
      "              precision    recall  f1-score   support\n",
      "\n",
      "           0       0.89      0.87      0.88      9017\n",
      "           1       0.88      0.90      0.89      9257\n",
      "\n",
      "    accuracy                           0.88     18274\n",
      "   macro avg       0.88      0.88      0.88     18274\n",
      "weighted avg       0.88      0.88      0.88     18274\n",
      "\n"
     ]
    }
   ],
   "source": [
    "print(metrics.classification_report(y_test, predic))\n",
    "fp_abc= cm[0][1]\n",
    "accuracy_abc = accuracy_score(y_test,predic)"
   ]
  },
  {
   "cell_type": "markdown",
   "id": "af53089d",
   "metadata": {},
   "source": [
    "# Naïve Bayes"
   ]
  },
  {
   "cell_type": "code",
   "execution_count": 75,
   "id": "86d0a47c",
   "metadata": {},
   "outputs": [
    {
     "name": "stdout",
     "output_type": "stream",
     "text": [
      "Train Score:  0.794224946189486\n",
      "Test Score:  0.7929298456823903\n"
     ]
    }
   ],
   "source": [
    "from sklearn.naive_bayes import GaussianNB\n",
    "nb=GaussianNB()\n",
    "nb.fit(x_train_st,y_train)\n",
    "print(\"Train Score: \",nb.score(x_train_st,y_train))\n",
    "print(\"Test Score: \",nb.score(x_test_st,y_test))"
   ]
  },
  {
   "cell_type": "code",
   "execution_count": 76,
   "id": "bf5b5080",
   "metadata": {},
   "outputs": [
    {
     "data": {
      "text/plain": [
       "<AxesSubplot:>"
      ]
     },
     "execution_count": 76,
     "metadata": {},
     "output_type": "execute_result"
    },
    {
     "data": {
      "image/png": "[encoded data removed]",
      "text/plain": [
       "<Figure size 504x360 with 2 Axes>"
      ]
     },
     "metadata": {
      "needs_background": "light"
     },
     "output_type": "display_data"
    }
   ],
   "source": [
    "predic=nb.predict(x_test_st)\n",
    "cm=metrics.confusion_matrix(y_test,predic)\n",
    "\n",
    "df_cm = pd.DataFrame(cm, index = [i for i in [\"yes\",\"no\"]],\n",
    "                  columns = [i for i in [\"Predict 1\",\"Predict 0\"]])\n",
    "plt.figure(figsize = (7,5))\n",
    "sns.heatmap(df_cm,annot=True,fmt='g')"
   ]
  },
  {
   "cell_type": "code",
   "execution_count": 78,
   "id": "e2429ac7",
   "metadata": {},
   "outputs": [
    {
     "name": "stdout",
     "output_type": "stream",
     "text": [
      "              precision    recall  f1-score   support\n",
      "\n",
      "           0       0.84      0.72      0.77      9017\n",
      "           1       0.76      0.87      0.81      9257\n",
      "\n",
      "    accuracy                           0.79     18274\n",
      "   macro avg       0.80      0.79      0.79     18274\n",
      "weighted avg       0.80      0.79      0.79     18274\n",
      "\n"
     ]
    }
   ],
   "source": [
    "print(metrics.classification_report(y_test, predic))\n",
    "fp_nb= cm[0][1]\n",
    "accuracy_nb= accuracy_score(y_test,predic)"
   ]
  },
  {
   "cell_type": "markdown",
   "id": "4c572cd0",
   "metadata": {},
   "source": [
    "# KNN"
   ]
  },
  {
   "cell_type": "code",
   "execution_count": 79,
   "id": "4eb57255",
   "metadata": {},
   "outputs": [
    {
     "name": "stdout",
     "output_type": "stream",
     "text": [
      "Train Score:  0.906096092809456\n",
      "Test Score:  0.8964102002845573\n"
     ]
    }
   ],
   "source": [
    "knn = KNeighborsClassifier(n_neighbors=15,leaf_size=25,\n",
    "    p=2)\n",
    "knn.fit(x_train_st, y_train)\n",
    " \n",
    "print(\"Train Score: \",knn.score(x_train_st,y_train))\n",
    "print(\"Test Score: \",knn.score(x_test_st,y_test))"
   ]
  },
  {
   "cell_type": "code",
   "execution_count": 80,
   "id": "2e35c738",
   "metadata": {},
   "outputs": [
    {
     "data": {
      "text/plain": [
       "<AxesSubplot:>"
      ]
     },
     "execution_count": 80,
     "metadata": {},
     "output_type": "execute_result"
    },
    {
     "data": {
      "image/png": "[encoded data removed]",
      "text/plain": [
       "<Figure size 504x360 with 2 Axes>"
      ]
     },
     "metadata": {
      "needs_background": "light"
     },
     "output_type": "display_data"
    }
   ],
   "source": [
    "predic=knn.predict(x_test_st)\n",
    "cm=metrics.confusion_matrix(y_test,predic)\n",
    "\n",
    "df_cm = pd.DataFrame(cm, index = [i for i in [\"yes\",\"no\"]],\n",
    "                  columns = [i for i in [\"Predict 1\",\"Predict 0\"]])\n",
    "plt.figure(figsize = (7,5))\n",
    "sns.heatmap(df_cm,annot=True,fmt='g')"
   ]
  },
  {
   "cell_type": "code",
   "execution_count": 81,
   "id": "2bdbb862",
   "metadata": {},
   "outputs": [
    {
     "name": "stdout",
     "output_type": "stream",
     "text": [
      "              precision    recall  f1-score   support\n",
      "\n",
      "           0       0.93      0.85      0.89      9017\n",
      "           1       0.87      0.94      0.90      9257\n",
      "\n",
      "    accuracy                           0.90     18274\n",
      "   macro avg       0.90      0.90      0.90     18274\n",
      "weighted avg       0.90      0.90      0.90     18274\n",
      "\n"
     ]
    }
   ],
   "source": [
    "print(metrics.classification_report(y_test, predic))\n",
    "fp_knn= cm[0][1]\n",
    "accuracy_knn= accuracy_score(y_test,predic)"
   ]
  },
  {
   "cell_type": "code",
   "execution_count": 82,
   "id": "936bd5d0",
   "metadata": {},
   "outputs": [
    {
     "name": "stdout",
     "output_type": "stream",
     "text": [
      "Train Score:  0.8458283170989749\n",
      "Test Score:  0.8420159789865382\n"
     ]
    }
   ],
   "source": [
    "from sklearn.svm import SVC # \"Support vector classifier\"\n",
    "svm = SVC(kernel = 'linear', C=3)\n",
    "svm.fit(x_train_st,y_train)\n",
    "print(\"Train Score: \",svm.score(x_train_st,y_train))\n",
    "print(\"Test Score: \",svm.score(x_test_st,y_test))"
   ]
  },
  {
   "cell_type": "code",
   "execution_count": 83,
   "id": "f8e5df82",
   "metadata": {},
   "outputs": [
    {
     "data": {
      "text/plain": [
       "<AxesSubplot:>"
      ]
     },
     "execution_count": 83,
     "metadata": {},
     "output_type": "execute_result"
    },
    {
     "data": {
      "image/png": "[encoded data removed]",
      "text/plain": [
       "<Figure size 504x360 with 2 Axes>"
      ]
     },
     "metadata": {
      "needs_background": "light"
     },
     "output_type": "display_data"
    }
   ],
   "source": [
    "predic=svm.predict(x_test_st)\n",
    "cm=metrics.confusion_matrix(y_test,predic)\n",
    "\n",
    "df_cm = pd.DataFrame(cm, index = [i for i in [\"yes\",\"no\"]],\n",
    "                  columns = [i for i in [\"Predict 1\",\"Predict 0\"]])\n",
    "plt.figure(figsize = (7,5))\n",
    "sns.heatmap(df_cm,annot=True,fmt='g')"
   ]
  },
  {
   "cell_type": "code",
   "execution_count": 85,
   "id": "c6b73d33",
   "metadata": {},
   "outputs": [
    {
     "name": "stdout",
     "output_type": "stream",
     "text": [
      "              precision    recall  f1-score   support\n",
      "\n",
      "           0       0.85      0.83      0.84      9017\n",
      "           1       0.84      0.85      0.85      9257\n",
      "\n",
      "    accuracy                           0.84     18274\n",
      "   macro avg       0.84      0.84      0.84     18274\n",
      "weighted avg       0.84      0.84      0.84     18274\n",
      "\n"
     ]
    }
   ],
   "source": [
    "print(metrics.classification_report(y_test, predic))\n",
    "fp_svm= cm[0][1]\n",
    "accuracy_svm= accuracy_score(y_test,predic)"
   ]
  },
  {
   "cell_type": "markdown",
   "id": "fd6f70c2",
   "metadata": {},
   "source": [
    "# Tabulation of the performance metrics"
   ]
  },
  {
   "cell_type": "code",
   "execution_count": 87,
   "id": "a74d4b81",
   "metadata": {},
   "outputs": [
    {
     "data": {
      "text/html": [
       "<div>\n",
       "<style scoped>\n",
       "    .dataframe tbody tr th:only-of-type {\n",
       "        vertical-align: middle;\n",
       "    }\n",
       "\n",
       "    .dataframe tbody tr th {\n",
       "        vertical-align: top;\n",
       "    }\n",
       "\n",
       "    .dataframe thead th {\n",
       "        text-align: right;\n",
       "    }\n",
       "</style>\n",
       "<table border=\"1\" class=\"dataframe\">\n",
       "  <thead>\n",
       "    <tr style=\"text-align: right;\">\n",
       "      <th></th>\n",
       "      <th>Model</th>\n",
       "      <th>FP</th>\n",
       "      <th>Accuracy</th>\n",
       "    </tr>\n",
       "  </thead>\n",
       "  <tbody>\n",
       "    <tr>\n",
       "      <th>0</th>\n",
       "      <td>Logistic Regression</td>\n",
       "      <td>1467</td>\n",
       "      <td>0.839225</td>\n",
       "    </tr>\n",
       "    <tr>\n",
       "      <th>1</th>\n",
       "      <td>AdaBoost</td>\n",
       "      <td>1172</td>\n",
       "      <td>0.884262</td>\n",
       "    </tr>\n",
       "    <tr>\n",
       "      <th>2</th>\n",
       "      <td>Naive bayes</td>\n",
       "      <td>2539</td>\n",
       "      <td>0.792930</td>\n",
       "    </tr>\n",
       "    <tr>\n",
       "      <th>3</th>\n",
       "      <td>KNN</td>\n",
       "      <td>1323</td>\n",
       "      <td>0.896410</td>\n",
       "    </tr>\n",
       "    <tr>\n",
       "      <th>4</th>\n",
       "      <td>SVM</td>\n",
       "      <td>1533</td>\n",
       "      <td>0.842016</td>\n",
       "    </tr>\n",
       "  </tbody>\n",
       "</table>\n",
       "</div>"
      ],
      "text/plain": [
       "                 Model    FP  Accuracy\n",
       "0  Logistic Regression  1467  0.839225\n",
       "1             AdaBoost  1172  0.884262\n",
       "2          Naive bayes  2539  0.792930\n",
       "3                  KNN  1323  0.896410\n",
       "4                  SVM  1533  0.842016"
      ]
     },
     "execution_count": 87,
     "metadata": {},
     "output_type": "execute_result"
    }
   ],
   "source": [
    "performance_metrics=[['Logistic Regression',fp_lr,accuracy_lr],\n",
    "   ['AdaBoost',fp_abc,accuracy_abc],\n",
    "   ['Naive bayes',fp_nb,accuracy_nb],\n",
    "   ['KNN',fp_knn,accuracy_knn],\n",
    "   ['SVM',fp_svm,accuracy_svm]]\n",
    "performance_metrics = pd.DataFrame(inf, columns = ['Model','FP','Accuracy'])\n",
    "performance_metrics"
   ]
  },
  {
   "cell_type": "markdown",
   "id": "7c621181",
   "metadata": {},
   "source": [
    "***\n",
    "* **Observation**: KNN and AdaBoost classifier has the highest accuracy and low False Positive count than other models.\n",
    "*** "
   ]
  }
 ],
 "metadata": {
  "kernelspec": {
   "display_name": "Python 3 (ipykernel)",
   "language": "python",
   "name": "python3"
  },
  "language_info": {
   "codemirror_mode": {
    "name": "ipython",
    "version": 3
   },
   "file_extension": ".py",
   "mimetype": "text/x-python",
   "name": "python",
   "nbconvert_exporter": "python",
   "pygments_lexer": "ipython3",
   "version": "3.9.7"
  }
 },
 "nbformat": 4,
 "nbformat_minor": 5
}
